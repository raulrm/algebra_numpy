{
 "cells": [
  {
   "cell_type": "markdown",
   "metadata": {},
   "source": [
    "# Algebra lineal con numpy\n",
    "Raul Marusca raulrm@gmail.com\n",
    "\n",
    "## Contenido\n",
    "1. Notación y contenidos básicos  \n",
    "    1. Notación básica\n",
    "    2. Contenidos básico\n",
    "    3. Escalares\n",
    "    4. Vectores\n",
    "    5. Matrices\n",
    "  \n",
    "2. Multiplicación de Matrices\n",
    "    1. Producto entre vectores\n",
    "    2. Producto entre vector y matriz\n",
    "    3. Producto entre matrices\n",
    "  \n",
    "3. Operaciones  \n",
    "    1. La matriz identidad y la matriz diagonal\n",
    "    2. Transposición\n",
    "    3. Matrices simétricas\n",
    "    4. Traza\n",
    "    5. Norma\n",
    "    6. Independencia lineal y Rango\n",
    "    7. Inversa de una matriz \n",
    "    8. Matrices ortogonales \n",
    "    9. El determinante\n",
    "    10. Formas cuadráticas \n",
    "    11. Matrices semi-definidas positivas\n",
    "    12. AutoValores y AutoVectores\n",
    "    13. AutoValores y AutoVectores de matrices simétricas  \n",
    "4. Calculo matricial\n",
    "    1. Gradiente\n",
    "    2. Hessiano\n",
    "    3. Gradiente y Hesiano de formas cuadráticas y lineales\n",
    "    4. Mínimos cuadrados\n",
    "    5. Gradiente y Determinante\n",
    "    6. AutoValores como optimizadores"
   ]
  },
  {
   "cell_type": "code",
   "execution_count": 2,
   "metadata": {},
   "outputs": [],
   "source": [
    "import numpy as np"
   ]
  },
  {
   "cell_type": "markdown",
   "metadata": {},
   "source": [
    "## Notación y contenidos básicos\n"
   ]
  },
  {
   "cell_type": "markdown",
   "metadata": {},
   "source": [
    "### Notacion Basica"
   ]
  },
  {
   "cell_type": "markdown",
   "metadata": {},
   "source": [
    "### Escalares\n",
    "En algebra, los escalares son los números con los que trabajamos en el dia a dia.  \n",
    "Son representados por un numero simple y usando letras minúsculas.  \n",
    "Ejemplos de escalares son:\n",
    "- $x \\in \\mathbb{R}$ - Numero real\n",
    "- $z \\in \\mathbb{Z}$ - Numero entero\n",
    "- $y \\in \\{0,1,...C\\}$ - Conjunto finito\n",
    "- $u \\in [0,1]$ - Conjunto cerrado\n",
    "\n",
    "En código los podemos ver como:"
   ]
  },
  {
   "cell_type": "code",
   "execution_count": 3,
   "metadata": {},
   "outputs": [
    {
     "name": "stdout",
     "output_type": "stream",
     "text": [
      "1.2345\n",
      "4\n"
     ]
    }
   ],
   "source": [
    "x = 1.2345\n",
    "print(x)\n",
    "z = int(4)\n",
    "print(z)\n"
   ]
  },
  {
   "cell_type": "markdown",
   "metadata": {},
   "source": [
    "Numpy no tiene una forma directa de definir Conjuntos. Para solucionar eso debemos emplear código que compruebe los valores limites de cada variable.  "
   ]
  },
  {
   "cell_type": "markdown",
   "metadata": {},
   "source": [
    "#### Suma escalares\n",
    "Es la suma comun \n",
    "$$a+b = c$$\n",
    "Tembien definiendo el *negativo* podemos definir la resta\n",
    "$$a + (-b) = c$$\n",
    "$$a-b = c$$"
   ]
  },
  {
   "cell_type": "code",
   "execution_count": 8,
   "metadata": {},
   "outputs": [
    {
     "name": "stdout",
     "output_type": "stream",
     "text": [
      "6\n",
      "2\n"
     ]
    }
   ],
   "source": [
    "# En python (funciona con enteros y de coma flotante)\n",
    "# Tambien con complejos pero no veremos ese type\n",
    "a = 4\n",
    "b = 2\n",
    "c = a + b\n",
    "print(c) \n",
    "\n",
    "c = a - b\n",
    "print(c) "
   ]
  },
  {
   "cell_type": "markdown",
   "metadata": {},
   "source": [
    "#### Multiplicacion de escalares\n",
    "La multiplicación, explicada de forma sencilla, consiste en que cuando multiplicamos, por ejemplo, 6×2, estaríamos realizando la siguiente operación 6+6. En otro caso, si multiplicásemos 5×7, estaríamos sumando 5+5+5+5+5+5+5.  \n",
    "Un caso especial es cuando el o los escalares que estamos multiplicando no son numeros enteros. Que tiene varias formas de resolverse.  \n",
    "Se nomina como:  \n",
    "$$a \\dot b= c$$\n",
    "Veamos como se multiplican dos o mas escalares en python "
   ]
  },
  {
   "cell_type": "markdown",
   "metadata": {},
   "source": [
    "### Vectores\n",
    "Usualmente consideramos a los vectores como vectores **columna**. Se muestran como letras en minuscula y ocasionalmente con letras en negrita.  \n",
    "La dimension se describe con las letras $d$, $D$ o $p$  \n",
    "Cada uno de los elementos que componen el vector se determinan por un subindice $x_i$  \n",
    "Un vector de componentes real se denota como:  \n",
    "$$\\textbf{x} \\in \\mathbb{R}^d$$\n",
    "En su forma columna\n",
    "$$\\textbf{x} = \\begin{bmatrix} x_{1}\\\\x_{2}\\\\x_{3}\\\\\\vdots\\\\x_{d}\\end{bmatrix}$$\n",
    "o en su forma traspuesta  \n",
    "$$x = [ x_{1},x_{2},x_{3},\\dots,x_{d} ]^T$$  "
   ]
  },
  {
   "cell_type": "markdown",
   "metadata": {},
   "source": [
    "En *Python* los vectores se pueden definir con listas o conjuntos, pero estas estructuras de datos nativas no tienen todos los metodos matematicos necesarios para operar algebraicamente. Y seria necesario desarrollar mucho codigo para ello.   \n",
    "Ese codigo ya esta escrito y optimizado en algunas librerias adicionales, nosotros vams a usar la libreria *numpy* y alli los vectores se definen con el metodo **.array()**  \n",
    "Veamos como:"
   ]
  },
  {
   "cell_type": "code",
   "execution_count": 9,
   "metadata": {},
   "outputs": [
    {
     "name": "stdout",
     "output_type": "stream",
     "text": [
      "[ 8.9  2.5 23.4 17.7 11.   4.  13. ]\n"
     ]
    }
   ],
   "source": [
    "# Primero creamos una lista con loscomponentes del vector \n",
    "# (o la puede generar nuestro programma)\n",
    "valores_x = [8.9, 2.5, 23.4,17.7, 11, 4, 13]\n",
    "# Luego iniciamos el array\n",
    "x = np.array(valores_x)\n",
    "print(x)"
   ]
  },
  {
   "cell_type": "code",
   "execution_count": 10,
   "metadata": {},
   "outputs": [
    {
     "name": "stdout",
     "output_type": "stream",
     "text": [
      "[ 8.9  2.5 23.4 17.7 11.   4.  13. ]\n"
     ]
    }
   ],
   "source": [
    "# Tambien podemos crearlo directamente\n",
    "x = np.array([8.9, 2.5, 23.4,17.7, 11, 4, 13])\n",
    "print(x)"
   ]
  },
  {
   "cell_type": "markdown",
   "metadata": {},
   "source": [
    "Podemos ver como *numpy* detecta que el tipo mas conveniente para todos los elementos del array es *float*  "
   ]
  },
  {
   "cell_type": "markdown",
   "metadata": {},
   "source": [
    "#### Suma de escalar y vector"
   ]
  },
  {
   "cell_type": "markdown",
   "metadata": {},
   "source": [
    "#### Suma de vectores"
   ]
  },
  {
   "cell_type": "markdown",
   "metadata": {},
   "source": [
    "#### Multiplicacion de escalar y vector"
   ]
  },
  {
   "cell_type": "markdown",
   "metadata": {},
   "source": [
    "#### Multiplicacion de vectores"
   ]
  },
  {
   "cell_type": "markdown",
   "metadata": {},
   "source": [
    "### Matrices"
   ]
  },
  {
   "cell_type": "code",
   "execution_count": null,
   "metadata": {},
   "outputs": [],
   "source": []
  }
 ],
 "metadata": {
  "kernelspec": {
   "display_name": "Python 3 (ipykernel)",
   "language": "python",
   "name": "python3"
  },
  "language_info": {
   "codemirror_mode": {
    "name": "ipython",
    "version": 3
   },
   "file_extension": ".py",
   "mimetype": "text/x-python",
   "name": "python",
   "nbconvert_exporter": "python",
   "pygments_lexer": "ipython3",
   "version": "3.9.7"
  },
  "vscode": {
   "interpreter": {
    "hash": "23399c94b0191d65b87c8924e20a5631b7ce6faa957c71f750adc4be686a5a21"
   }
  }
 },
 "nbformat": 4,
 "nbformat_minor": 4
}
