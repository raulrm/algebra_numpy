{
 "cells": [
  {
   "cell_type": "markdown",
   "metadata": {},
   "source": [
    "# Algebra lineal con numpy\n",
    "Raul Marusca raulrm@gmail.com\n",
    "\n",
    "## Contenido\n",
    "1. Notación y contenidos básicos  \n",
    "    1. Notación básica\n",
    "    2. Contenidos básico\n",
    "    3. Escalares\n",
    "    4. Vectores\n",
    "    5. Matrices\n",
    "  \n",
    "2. Multiplicación de Matrices\n",
    "    1. Producto entre vectores\n",
    "    2. Producto entre vector y matriz\n",
    "    3. Producto entre matrices\n",
    "  \n",
    "3. Operaciones  \n",
    "    1. La matriz identidad y la matriz diagonal\n",
    "    2. Transposición\n",
    "    3. Matrices simétricas\n",
    "    4. Traza\n",
    "    5. Norma\n",
    "    6. Independencia lineal y Rango\n",
    "    7. Inversa de una matriz \n",
    "    8. Matrices ortogonales \n",
    "    9. El determinante\n",
    "    10. Formas cuadráticas \n",
    "    11. Matrices semi-definidas positivas\n",
    "    12. AutoValores y AutoVectores\n",
    "    13. AutoValores y AutoVectores de matrices simétricas  \n",
    "4. Calculo matricial\n",
    "    1. Gradiente\n",
    "    2. Hessiano\n",
    "    3. Gradiente y Hesiano de formas cuadráticas y lineales\n",
    "    4. Mínimos cuadrados\n",
    "    5. Gradiente y Determinante\n",
    "    6. AutoValores como optimizadores"
   ]
  },
  {
   "cell_type": "code",
   "execution_count": 1,
   "metadata": {},
   "outputs": [],
   "source": [
    "import numpy as np"
   ]
  },
  {
   "cell_type": "markdown",
   "metadata": {},
   "source": [
    "## Notación y contenidos básicos\n"
   ]
  },
  {
   "cell_type": "markdown",
   "metadata": {},
   "source": [
    "### Notacion Basica"
   ]
  },
  {
   "cell_type": "markdown",
   "metadata": {},
   "source": [
    "### Escalares\n",
    "En algebra, los escalares son los números con los que trabajamos en el dia a dia.  \n",
    "Son representados por un numero simple y usando letras minúsculas.  \n",
    "Ejemplos de escalares son:\n",
    "- $x \\in \\mathbb{R}$ - Numero real\n",
    "- $z \\in \\mathbb{Z}$ - Numero entero\n",
    "- $y \\in \\{0,1,...C\\}$ - Conjunto finito\n",
    "- $u \\in [0,1]$ - Conjunto cerrado\n",
    "\n",
    "En código los podemos ver como:"
   ]
  },
  {
   "cell_type": "code",
   "execution_count": 2,
   "metadata": {},
   "outputs": [
    {
     "name": "stdout",
     "output_type": "stream",
     "text": [
      "1.2345\n",
      "4\n"
     ]
    }
   ],
   "source": [
    "x = 1.2345\n",
    "print(x)\n",
    "z = int(4)\n",
    "print(z)\n"
   ]
  },
  {
   "cell_type": "markdown",
   "metadata": {},
   "source": [
    "Numpy no tiene una forma directa de definir Conjuntos. Para solucionar eso debemos emplear código que compruebe los valores limites de cada variable."
   ]
  },
  {
   "cell_type": "markdown",
   "metadata": {},
   "source": [
    "### Vectores\n",
    "Usualmente consideramos a los vectores como vectores **columna**. Se muestran como letras en minuscula y ocasionalmente con letras en negrita.  \n",
    "La dimension se describe con las letras $d$, $D$ o $p$  \n",
    "Cada uno de los elementos que componen el vector se determinan por un subindice $x_i$"
   ]
  }
 ],
 "metadata": {
  "kernelspec": {
   "display_name": "Python 3.7.5 ('tp-ds')",
   "language": "python",
   "name": "python3"
  },
  "language_info": {
   "codemirror_mode": {
    "name": "ipython",
    "version": 3
   },
   "file_extension": ".py",
   "mimetype": "text/x-python",
   "name": "python",
   "nbconvert_exporter": "python",
   "pygments_lexer": "ipython3",
   "version": "3.7.5"
  },
  "orig_nbformat": 4,
  "vscode": {
   "interpreter": {
    "hash": "23399c94b0191d65b87c8924e20a5631b7ce6faa957c71f750adc4be686a5a21"
   }
  }
 },
 "nbformat": 4,
 "nbformat_minor": 2
}
