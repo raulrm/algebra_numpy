{
 "cells": [
  {
   "cell_type": "markdown",
   "metadata": {},
   "source": [
    "# Algebra lineal con numpy\n",
    "\n",
    "Raul Marusca raulrm@gmail.com\n",
    "\n",
    "github: https://github.com/raulrm/algebra_numpy\n",
    "\n",
    "LinkedIn: https://www.linkedin.com/in/raul-marusca/\n",
    "\n",
    "## Contenido\n",
    "1. Notación y contenidos básicos  \n",
    "    1. Notación básica\n",
    "    2. Contenidos básico\n",
    "    3. Escalares\n",
    "    4. Vectores\n",
    "    5. Matrices\n",
    "  \n",
    "2. Multiplicación de Matrices\n",
    "    1. Producto entre vectores\n",
    "    2. Producto entre vector y matriz\n",
    "    3. Producto entre matrices\n",
    "  \n",
    "3. Operaciones  \n",
    "    1. La matriz identidad y la matriz diagonal\n",
    "    2. Transposición\n",
    "    3. Matrices simétricas\n",
    "    4. Traza\n",
    "    5. Norma\n",
    "    6. Independencia lineal y Rango\n",
    "    7. Inversa de una matriz \n",
    "    8. Matrices ortogonales \n",
    "    9. El determinante\n",
    "    10. Formas cuadráticas \n",
    "    11. Matrices semi-definidas positivas\n",
    "    12. AutoValores y AutoVectores\n",
    "    13. AutoValores y AutoVectores de matrices simétricas  \n",
    "4. Calculo matricial\n",
    "    1. Gradiente\n",
    "    2. Hessiano\n",
    "    3. Gradiente y Hesiano de formas cuadráticas y lineales\n",
    "    4. Mínimos cuadrados\n",
    "    5. Gradiente y Determinante\n",
    "    6. AutoValores como optimizadores"
   ]
  },
  {
   "cell_type": "code",
   "execution_count": 2,
   "metadata": {},
   "outputs": [],
   "source": [
    "import numpy as np"
   ]
  },
  {
   "cell_type": "markdown",
   "metadata": {},
   "source": [
    "## Notación y contenidos básicos\n"
   ]
  },
  {
   "cell_type": "markdown",
   "metadata": {},
   "source": [
    "### Notacion Basica"
   ]
  },
  {
   "cell_type": "markdown",
   "metadata": {},
   "source": [
    "### Escalares\n",
    "En algebra, los escalares son los números con los que trabajamos en el dia a dia.  \n",
    "Son representados por un numero simple y usando letras minúsculas.  \n",
    "Ejemplos de escalares son:\n",
    "- $x \\in \\mathbb{R}$ - Numero real\n",
    "- $z \\in \\mathbb{Z}$ - Numero entero\n",
    "- $y \\in \\{0,1,...C\\}$ - Conjunto finito\n",
    "- $u \\in [0,1]$ - Conjunto cerrado\n",
    "\n",
    "En código los podemos ver como:"
   ]
  },
  {
   "cell_type": "code",
   "execution_count": 2,
   "metadata": {},
   "outputs": [
    {
     "name": "stdout",
     "output_type": "stream",
     "text": [
      "1.2345\n",
      "4\n"
     ]
    }
   ],
   "source": [
    "x = 1.2345\n",
    "print(x)\n",
    "z = int(4)\n",
    "print(z)\n"
   ]
  },
  {
   "cell_type": "markdown",
   "metadata": {},
   "source": [
    "Numpy no tiene una forma directa de definir Conjuntos. Para solucionar eso debemos emplear código que compruebe los valores limites de cada variable.  "
   ]
  },
  {
   "cell_type": "markdown",
   "metadata": {},
   "source": [
    "#### Suma de escalares\n",
    "Es la suma comun \n",
    "$$a+b = c$$\n",
    "Tembien definiendo el *negativo* podemos definir la resta\n",
    "$$a + (-b) = c$$\n",
    "$$a-b = c$$"
   ]
  },
  {
   "cell_type": "code",
   "execution_count": 3,
   "metadata": {},
   "outputs": [
    {
     "name": "stdout",
     "output_type": "stream",
     "text": [
      "6\n",
      "2\n"
     ]
    }
   ],
   "source": [
    "# En python (funciona con enteros y de coma flotante)\n",
    "# Tambien con complejos pero no veremos ese type\n",
    "a = 4\n",
    "b = 2\n",
    "c = a + b\n",
    "print(c) \n",
    "\n",
    "c = a - b\n",
    "print(c) "
   ]
  },
  {
   "cell_type": "markdown",
   "metadata": {},
   "source": [
    "#### Multiplicacion de escalares\n",
    "La multiplicación, explicada de forma sencilla, consiste en que cuando multiplicamos, por ejemplo, 6×2, estaríamos realizando la siguiente operación 6+6. En otro caso, si multiplicásemos 5×7, estaríamos sumando 5+5+5+5+5+5+5 (sumado 7 veces el numero 5)  \n",
    "Un caso especial es cuando el o los escalares que estamos multiplicando no son numeros enteros. Que tiene varias formas de resolverse.  \n",
    "Se nomina como:  \n",
    "$$a \\dot b= c$$\n",
    "Veamos como se multiplican dos o mas escalares en python "
   ]
  },
  {
   "cell_type": "code",
   "execution_count": 4,
   "metadata": {},
   "outputs": [
    {
     "name": "stdout",
     "output_type": "stream",
     "text": [
      "8\n"
     ]
    }
   ],
   "source": [
    "# Definamos los escalares\n",
    "a = 4\n",
    "b = 2\n",
    "# Y la operacion\n",
    "c = a*b\n",
    "print(c)"
   ]
  },
  {
   "cell_type": "markdown",
   "metadata": {},
   "source": [
    "### Vectores\n",
    "Usualmente consideramos a los vectores como vectores **columna**. Se muestran como letras en minuscula y ocasionalmente con letras en negrita.  \n",
    "La dimension se describe con las letras $d$, $D$, $n$ o $p$ Nosotros usaremos $n$  \n",
    "Cada uno de los elementos que componen el vector se determinan por un subindice $x_i$  \n",
    "Un vector de componentes real se denota como:  \n",
    "$$\\textbf{x} \\in \\mathbb{R}^n$$\n",
    "En su forma columna\n",
    "$$\\textbf{x} = \\begin{bmatrix} x_{1}\\\\x_{2}\\\\x_{3}\\\\\\vdots\\\\x_{d}\\end{bmatrix}$$\n",
    "o en su forma traspuesta  \n",
    "$$x = ( x_{1},x_{2},x_{3},\\dots,x_{d} )^T$$  "
   ]
  },
  {
   "cell_type": "markdown",
   "metadata": {},
   "source": [
    "En *Python* los vectores se pueden definir con listas o conjuntos, pero estas estructuras de datos nativas no tienen todos los metodos matematicos necesarios para operar algebraicamente. Y seria necesario desarrollar mucho codigo para ello.   \n",
    "Por suerte ese codigo ya esta escrito y optimizado en algunas librerias adicionales, nosotros vamos a usar la libreria *numpy* y alli los vectores se definen con el metodo **.array()**  \n",
    "Veamos como:"
   ]
  },
  {
   "cell_type": "code",
   "execution_count": 5,
   "metadata": {},
   "outputs": [
    {
     "name": "stdout",
     "output_type": "stream",
     "text": [
      "[ 8.9  2.5 23.4 17.7 11.   4.  13. ]\n"
     ]
    }
   ],
   "source": [
    "# Primero creamos una lista con loscomponentes del vector \n",
    "# (o la puede generar nuestro programma)\n",
    "valores_x = [8.9, 2.5, 23.4,17.7, 11, 4, 13]\n",
    "# Luego iniciamos el array\n",
    "# notemos que estamos llamando al metodo .array() de el objeto np (numpy) \n",
    "x = np.array(valores_x)\n",
    "print(x)"
   ]
  },
  {
   "cell_type": "code",
   "execution_count": 6,
   "metadata": {},
   "outputs": [
    {
     "name": "stdout",
     "output_type": "stream",
     "text": [
      "[ 8.9  2.5 23.4 17.7 11.   4.  13. ]\n"
     ]
    }
   ],
   "source": [
    "# Tambien podemos crearlo directamente\n",
    "x = np.array([8.9, 2.5, 23.4,17.7, 11, 4, 13])\n",
    "print(x)"
   ]
  },
  {
   "cell_type": "markdown",
   "metadata": {},
   "source": [
    "Podemos ver como *numpy* detecta que el tipo mas conveniente para todos los elementos del array es *float*  \n",
    "Esto se puede cambiar definiendo el *tipo*  con el que se va a guardar cada elemento.  \n",
    "Recordemos que las listas en Python pueden tener elementos de cualquier tipo (o sea son **heterogeneas**), en los arrays numpy siempre son del mismo tipo. \n",
    "Definimos el tipo a utilizar usando el parametro *dtype=*"
   ]
  },
  {
   "cell_type": "code",
   "execution_count": 7,
   "metadata": {},
   "outputs": [
    {
     "name": "stdout",
     "output_type": "stream",
     "text": [
      "[ 8  2 23 17 11  4 13]\n"
     ]
    }
   ],
   "source": [
    "# creamos un array de elementos enteros\n",
    "x = np.array([8, 2, 23,17, 11, 4, 13], dtype=np.int64)\n",
    "print(x)"
   ]
  },
  {
   "cell_type": "markdown",
   "metadata": {},
   "source": [
    "np.int64 es un numero entero con signo de 64 bits. Hay muchos otros y siempre debemos usar el correcto para la aplicacion que estamos creando.  \n",
    "Para ver cuales tipos estan disponibles podemos hacer:  "
   ]
  },
  {
   "cell_type": "code",
   "execution_count": 8,
   "metadata": {},
   "outputs": [
    {
     "data": {
      "text/plain": [
       "{'int': [numpy.int8, numpy.int16, numpy.int32, numpy.int64],\n",
       " 'uint': [numpy.uint8, numpy.uint16, numpy.uint32, numpy.uint64],\n",
       " 'float': [numpy.float16, numpy.float32, numpy.float64, numpy.float128],\n",
       " 'complex': [numpy.complex64, numpy.complex128, numpy.complex256],\n",
       " 'others': [bool, object, bytes, str, numpy.void]}"
      ]
     },
     "execution_count": 8,
     "metadata": {},
     "output_type": "execute_result"
    }
   ],
   "source": [
    "# listar todos los tipos numericos que soporta numpy\n",
    "np.sctypes"
   ]
  },
  {
   "cell_type": "markdown",
   "metadata": {},
   "source": [
    "numpy ademas tiene otras formas para crear arrays con funciones que lo crean vacios o con algun valor predefinido.  \n",
    "Veamos cuales son:  \n",
    "1. Arange() arange(comienzo, fin, paso, dtype) Nunca incluye el valor *fin* en el array"
   ]
  },
  {
   "cell_type": "code",
   "execution_count": 9,
   "metadata": {},
   "outputs": [
    {
     "name": "stdout",
     "output_type": "stream",
     "text": [
      "[0 1 2 3 4 5 6 7 8 9]\n"
     ]
    }
   ],
   "source": [
    "# Arrays con un rango de valores\n",
    "array_arange = np.arange(10)\n",
    "print(array_arange)"
   ]
  },
  {
   "cell_type": "markdown",
   "metadata": {},
   "source": [
    "Extendemos un poco mas el ejemplo generando un array de numeros impares"
   ]
  },
  {
   "cell_type": "code",
   "execution_count": 10,
   "metadata": {},
   "outputs": [
    {
     "name": "stdout",
     "output_type": "stream",
     "text": [
      "[1 3 5 7 9]\n"
     ]
    }
   ],
   "source": [
    "# Arrays con un rango de valores con primer valor, valor final y paso\n",
    "# aprovechamos para definir un tipo de datos\n",
    "array_arange = np.arange(1, 10, 2, dtype=np.int8)\n",
    "print(array_arange)"
   ]
  },
  {
   "cell_type": "markdown",
   "metadata": {},
   "source": [
    "2. Linspace() linspace(comienzo, fin, cantidad, dtype) Siempre incluye *comienzo* y *fin* en el array"
   ]
  },
  {
   "cell_type": "code",
   "execution_count": 11,
   "metadata": {},
   "outputs": [
    {
     "name": "stdout",
     "output_type": "stream",
     "text": [
      "[1.         1.71428571 2.42857143 3.14285714 3.85714286 4.57142857\n",
      " 5.28571429 6.        ]\n"
     ]
    }
   ],
   "source": [
    "# genera cantidad de valores entre dos limites\n",
    "array_linspace = np.linspace(1., 6., 8)\n",
    "print(array_linspace)"
   ]
  },
  {
   "cell_type": "markdown",
   "metadata": {},
   "source": [
    "Ahora que ya sabemos como crear array de 1 dimension (o $\\mathbb{R}^n$) vamos a ver como podemos realizar algunas operaciones matematicas con ellos"
   ]
  },
  {
   "cell_type": "markdown",
   "metadata": {},
   "source": [
    "#### Suma de escalar y vector\n",
    "En algebra comun definimos a la suma de un escalar con un vector como:  \n",
    "Sea *a* un escalar y $x=(x_1, x_2,...x_n)^T$ un vector de dimension *n* la suma $y=a+x$ es igual a:  \n",
    "\n",
    "$$\\textbf{y} = a +  \\begin{bmatrix} x_{1}\\\\x_{2}\\\\x_{3}\\\\\\vdots\\\\x_{n}\\end{bmatrix}= \\begin{bmatrix} a +x_{1}\\\\a+x_{2}\\\\a+x_{3}\\\\\\vdots\\\\a+x_{n}\\end{bmatrix}$$   \n",
    "O sea que $y$ es tambien un vector de dimension $n$  \n",
    "Notemos tambien que la suma es **conmutativa** es decir, que $a+x=x+a$  \n",
    "\n",
    "Hagamos un ejemplo numerico:  \n",
    "Sea $a=5$ y $x=(4, 3, -5)^T$\n",
    "$$\\textbf{y} = 5 +  \\begin{bmatrix} 4\\\\3\\\\-5\\end{bmatrix}= \\begin{bmatrix} 5 +4\\\\5+3\\\\5+(-5)\\end{bmatrix}= \\begin{bmatrix} 9\\\\8\\\\0\\end{bmatrix}$$ \n",
    "Veamos como es esto en python  "
   ]
  },
  {
   "cell_type": "code",
   "execution_count": 12,
   "metadata": {},
   "outputs": [
    {
     "name": "stdout",
     "output_type": "stream",
     "text": [
      "[ 4  3 -5]\n",
      "[9 8 0]\n"
     ]
    }
   ],
   "source": [
    "# Primero el escalar\n",
    "a = 5\n",
    "# Ahora el array\n",
    "x = np.array([4, 3, -5], dtype=np.int64)\n",
    "# Veamos que hay en el vector x\n",
    "print(x)\n",
    "# Hacemos la cuenta\n",
    "y = a + x\n",
    "# Veamos que resultado obtenemos\n",
    "print(y)"
   ]
  },
  {
   "cell_type": "markdown",
   "metadata": {},
   "source": [
    "#### Suma de Vectores\n",
    "Definimos a la suma de vectores como: \n",
    "Sea $x=(x_1, x_2,...x_n)^T$ un vector de dimension *n* y sea $y=(y_1, y_2,...y_n)^T$ **tambien** un vector de dimension **n** (notese que esto es importante, ambos deben ser de la misma dimension) decimos entonces que $w=x+y$ es tambien un vector de dimension *n* cuyos elementos son:  \n",
    "\n",
    "$$\\textbf{w} = x+ y =\\begin{bmatrix} x_{1}\\\\x_{2}\\\\x_{3}\\\\\\vdots\\\\x_{n}\\end{bmatrix} + \\begin{bmatrix} y_{1}\\\\y_{2}\\\\y_{3}\\\\\\vdots\\\\y_{n}\\end{bmatrix}= \\begin{bmatrix} x_{1} + y_1\\\\x_{2} + y_2\\\\x_{3}+y_3\\\\\\vdots\\\\x_{n}+y_n\\end{bmatrix}$$  \n",
    "Podemos apreciar tambien que la suma de vectores es conmutativa, es decir: $x+y=y+x$  \n",
    "\n",
    "Vayamos a un ejemplo con valores  \n",
    "Sea $x=(6, 3, 5, 4)^T$ y $y=(2, -1, 4, 8)^T$\n",
    "\n",
    "$$\\textbf{w} = x+ y =\\begin{bmatrix} 6\\\\3\\\\5\\\\4\\end{bmatrix} + \\begin{bmatrix} 2\\\\-1\\\\4\\\\8\\end{bmatrix}= \\begin{bmatrix} 6 + 2\\\\3+(-1)\\\\5+4\\\\4+8\\end{bmatrix}= \\begin{bmatrix} 8\\\\2\\\\9\\\\12\\end{bmatrix}$$  \n",
    "\n",
    "En codigo:"
   ]
  },
  {
   "cell_type": "code",
   "execution_count": 13,
   "metadata": {},
   "outputs": [
    {
     "name": "stdout",
     "output_type": "stream",
     "text": [
      "[ 8  2  9 12]\n"
     ]
    }
   ],
   "source": [
    "# Hacemos x\n",
    "x = np.array([6, 3, 5, 4], dtype=np.int64)\n",
    "# Hacemos y\n",
    "y = np.array([2, -1, 4, 8], dtype=np.int64)\n",
    "# realizamos la suma de vectores\n",
    "w = x +y \n",
    "print(w)"
   ]
  },
  {
   "cell_type": "markdown",
   "metadata": {},
   "source": [
    "#### Multiplicacion de escalar y vector\n",
    "En algebra comun definimos a la multiplicacion de un escalar con un vector como:  \n",
    "Sea *a* un escalar y $x=(x_1, x_2,...x_n)^T$ un vector de dimension *n* el producto $y=a\\,x$ es igual a:  \n",
    "\n",
    "$$\\textbf{y} = a\\,\\begin{bmatrix} x_{1}\\\\x_{2}\\\\x_{3}\\\\\\vdots\\\\x_{n}\\end{bmatrix}= \\begin{bmatrix} a\\,x_{1}\\\\a\\,x_{2}\\\\a\\,x_{3}\\\\\\vdots\\\\a\\,x_{n}\\end{bmatrix}$$   \n",
    "O sea que $y$ es tambien un vector de dimension $n$  \n",
    "Notemos tambien que el producto es **conmutativo** es decir, que $a\\,x=x\\,a$  \n",
    "\n",
    "Hagamos un ejemplo numerico:  \n",
    "Sea $a=5$ y $x=(4, 3, -5)^T$\n",
    "$$\\textbf{y} = 5\\,\\begin{bmatrix} 4\\\\3\\\\-5\\end{bmatrix}= \\begin{bmatrix} 5\\;4\\\\5\\;3\\\\5\\,(-5)\\end{bmatrix}= \\begin{bmatrix} 20\\\\15\\\\-25\\end{bmatrix}$$ \n",
    "Veamos como es esto en python "
   ]
  },
  {
   "cell_type": "code",
   "execution_count": 14,
   "metadata": {},
   "outputs": [
    {
     "name": "stdout",
     "output_type": "stream",
     "text": [
      "[ 20  15 -25]\n"
     ]
    }
   ],
   "source": [
    "# Hacemos el escalar\n",
    "a = 5\n",
    "# Hacemos x\n",
    "x = np.array([4, 3, -5], dtype=np.int64)\n",
    "# realizamos el producto de vectores\n",
    "y = a*x \n",
    "print(y)"
   ]
  },
  {
   "cell_type": "markdown",
   "metadata": {},
   "source": [
    "#### Multiplicacion de Vectores\n",
    "Ok, aqui ya entramos en algunos problemas. Es que existen dos formas de hacer el producto entre vectores:\n",
    "1. **Producto Interno** es cuando multiplicamos dos vectores y nuestro resultado es un escalar.\n",
    "2. **Producto Externo** es cuando multiplicamos dos vectores y nuestro resultado es otro vector o matriz.  \n",
    "\n",
    "Veamos como es eso  \n",
    "##### <ins>Producto interno</ins>\n",
    "Se define al producto interno entre dos vectores $x=(x_1, x_2,...x_n)^T$ y $y=(y_1, y_2,...y_n)^T$ al escalar $v$ que surge de realizar\n",
    "$$v = \\sum_{i=1}^n x_i\\;y_i$$\n",
    "O de otra forma\n",
    "$$v = x \\cdot y =\\begin{bmatrix} x_{1}\\\\x_{2}\\\\x_{3}\\\\\\vdots\\\\x_{n}\\end{bmatrix} \\cdot \\begin{bmatrix} y_{1}\\\\y_{2}\\\\y_{3}\\\\\\vdots\\\\y_{n}\\end{bmatrix}= x_{1} \\; y_1+x_{2}\\;y_2+x_{3}\\;y_3+ \\cdots + x_{n}\\;y_n$$  \n",
    "Podemos notar que este producto es **conmutativo** es decir $x\\cdot y=y\\cdot x$  \n",
    "\n",
    "Tambien tenemos una forma mas concisa para denotar al producto interno usando notacion matricial\n",
    "$$v= x^Ty$$\n",
    "$$v = x^Ty = [x_{1},x_{2},x_{3},\\dots,x_{n}]\\begin{bmatrix} y_{1}\\\\y_{2}\\\\y_{3}\\\\\\vdots\\\\y_{n}\\end{bmatrix}=\\sum_{i=1}^n x_i\\;y_i$$  \n",
    "Se puede tambien expresar esta operacion como  \n",
    "$$x^T y = y^T x$$\n",
    "ya que es conmutativo  \n",
    "\n",
    "El producto interno tambien es conocido por *producto punto* \n",
    "\n",
    "Hagamos esa cuenta con valores  \n",
    "Sea $x=(4, 3, -5)^T$ y $y=(2, -1, 4)^T$, entonces:  \n",
    "$$v = x \\cdot y =\\begin{bmatrix} 4\\\\3\\\\-5\\end{bmatrix} \\cdot \\begin{bmatrix} 2\\\\-1\\\\4\\end{bmatrix}= 4 \\cdot 2+3\\cdot (-1)+(-5)\\cdot 4 = 8-3-20 = -15$$  \n",
    "En Python para realizar esta operacion se emplea el metodo *np.inner(array1, array2)* (tambien existe el alias *np.dot()*)"
   ]
  },
  {
   "cell_type": "code",
   "execution_count": 4,
   "metadata": {},
   "outputs": [
    {
     "name": "stdout",
     "output_type": "stream",
     "text": [
      "-15\n",
      "[  8  -3 -20]\n"
     ]
    }
   ],
   "source": [
    "# Definimos x \n",
    "x = np.array([4, 3, -5], dtype =np.int64)\n",
    "# definimos y \n",
    "y = np.array([2, -1, 4], dtype =np.int64)\n",
    "# Ahora realizamos la operacion\n",
    "v = np.inner(x, y)\n",
    "print(v)\n",
    "\n",
    "z = np.multiply(x,y)\n",
    "print(z)\n"
   ]
  },
  {
   "cell_type": "markdown",
   "metadata": {},
   "source": [
    "np.inner() tambien admite la multiplicacion de escalares. De paso mostramos que *np.dot()* funciona igual"
   ]
  },
  {
   "cell_type": "code",
   "execution_count": 16,
   "metadata": {},
   "outputs": [
    {
     "name": "stdout",
     "output_type": "stream",
     "text": [
      "8\n",
      "8\n"
     ]
    }
   ],
   "source": [
    "# Definimos los escalares\n",
    "a, b = 4, 2\n",
    "# Hacemos el producto inner\n",
    "c = np.inner(a, b)\n",
    "print(c)\n",
    "# Hacemos el producto dot\n",
    "c = np.dot(a, b)\n",
    "print(c)"
   ]
  },
  {
   "cell_type": "markdown",
   "metadata": {},
   "source": [
    "Nota:  \n",
    "La mutiplicacion de un escalar por un array en numpy oculta un proceso que se llama **Broadcasting** en el cual el escalar es convertido en un array de las mismas dimensiones que el que se esta multiplicando y luego se ejecuta.  \n",
    "Esto ya lo vimos (pero no lo aclaramos) cuando realizamos la suma de un escalar con un vector."
   ]
  },
  {
   "cell_type": "markdown",
   "metadata": {},
   "source": [
    "##### <ins>Producto externo</ins>\n",
    "Se define al producto punto entre dos vectores $x=(x_1, x_2,...x_m)^T$ y $y=(y_1, y_2,...y_n)^T$ (*n* y *m* pueden tener valores distintos) a la matriz $v$ de dimensiones *m x n* que resulta de hacer  \n",
    "\n",
    "$$v = xy^T$$  \n",
    "\n",
    "Nota: En algunos textos el producto externo se denota con el simbolo $\\otimes$ Pero en nuestro caso el uso de la notacion matricial deja en claro que tipo de producto es.  \n",
    "\n",
    "El calculo del producto externo se desarrolla de la siguiente forma:  \n",
    "\n",
    "$$xy^T = \\begin{bmatrix} x_{1}\\\\x_{2}\\\\x_{3}\\\\\\vdots\\\\x_{m}\\end{bmatrix} [y_1, y_2, y_3, \\dots, y_n ] = \\begin{bmatrix} x_1 y_1 & x_1 y_2 & x_1 y_3 & \\cdots & x_1 y_n \\\\ x_2 y_1 & x_2 y_2 & x_2 y_3 & \\cdots & x_2 y_n \\\\ x_3 y_1 & x_3 y_2 & x_3 y_3 & \\cdots & x_3 y_n \\\\ \\vdots & \\vdots & \\vdots & \\cdots & \\vdots \\\\ x_m y_1 & x_m y_2 & x_m y_3 & \\cdots & x_m y_n \\\\ \\end{bmatrix}$$  \n",
    "\n",
    "Como vemos, salvo que uno o dos de los arrays sean de dimension 1, el resultado del producto externo es una matriz  \n",
    "Otro detalle a tener en cuenta es que esta operacion no es conmutativa, es decir:  \n",
    "$$xy^T \\neq yx^T$$\n",
    "  \n",
    "Hagamos un ejemplo numerico con los vectores ya conocidos  \n",
    "Sea $x=(4, 3, -5)^T$ y $y=(2, -1, 4)^T$, entonces:  \n",
    "$$v = xy^T =\\begin{bmatrix} 4\\\\3\\\\-5\\end{bmatrix} \\cdot [2\\; -1\\; 4] = \\begin{bmatrix} 4\\cdot 2 & 4\\cdot -1 & 4\\cdot 4\\\\ 3\\cdot 2& 3 \\cdot -1& 3\\cdot 4\\\\-5\\cdot 2& -5 \\cdot -1& -5\\cdot 4\\end{bmatrix}= \\begin{bmatrix} 8 & -4 & 16\\\\ 6& -3& 12\\\\-10& 5& -20\\end{bmatrix}$$ \n",
    "\n",
    "Para realizar esta operacion en numpy se emplea el metodo .outer(array1, array2)\n"
   ]
  },
  {
   "cell_type": "code",
   "execution_count": 17,
   "metadata": {},
   "outputs": [
    {
     "name": "stdout",
     "output_type": "stream",
     "text": [
      "[[  8  -4  16]\n",
      " [  6  -3  12]\n",
      " [-10   5 -20]]\n"
     ]
    }
   ],
   "source": [
    "# Definimos x \n",
    "x = np.array([4, 3, -5], dtype =np.int64)\n",
    "# definimos y \n",
    "y = np.array([2, -1, 4], dtype =np.int64)\n",
    "# Ahora realizamos la operacion\n",
    "v = np.outer(x, y)\n",
    "print(v)"
   ]
  },
  {
   "cell_type": "markdown",
   "metadata": {},
   "source": [
    "### Matrices\n",
    "Como ya hemos visto, las matrices son arreglos bidimensionales de numeros.  \n",
    "Por lo general se las denomina con una letra en mayuscula  \n",
    "Y se accede a sus elementos empleando dos indices (el vertical y el horizontal) $X_{ij}$ o $x_{ij}$  \n",
    "Unos ejemplos son:\n",
    "$$X \\in \\mathrm{R}^{m\\times n}$$  \n",
    "$$V = \\begin{bmatrix} 8 & -4 & 16\\\\ 6& -3& 12\\\\-10& 5& -20\\end{bmatrix}$$  \n",
    "  \n",
    "En *numpy* las matrices son un caso de array con 2 dimensiones  \n",
    "Para crear una matriz con *numpy* disponemos de varias formas:  \n",
    ". Concatenando arrays"
   ]
  },
  {
   "cell_type": "code",
   "execution_count": 18,
   "metadata": {},
   "outputs": [
    {
     "name": "stdout",
     "output_type": "stream",
     "text": [
      "[[ 0  1  2  3]\n",
      " [ 4  5  6  7]\n",
      " [ 8  9 10 11]\n",
      " [12 13 14 15]]\n"
     ]
    }
   ],
   "source": [
    "# Definimos 4 arrays de 4 elementos\n",
    "array1 = [0,1,2,3]\n",
    "array2 = [4, 5, 6, 7]\n",
    "array3 = [8, 9, 10, 11]\n",
    "array4 = [12, 13, 14, 15]\n",
    "# contruimos el array multidimensional con el metodo *.array()*\n",
    "matriz1 = np.array([array1, array2, array3, array4])\n",
    "# Mostramos como quedo\n",
    "print(matriz1)"
   ]
  },
  {
   "cell_type": "markdown",
   "metadata": {},
   "source": [
    ". Redimensionando un array existente con el metodo *.reshape()* "
   ]
  },
  {
   "cell_type": "code",
   "execution_count": 19,
   "metadata": {},
   "outputs": [
    {
     "name": "stdout",
     "output_type": "stream",
     "text": [
      "[[ 0  1  2  3]\n",
      " [ 4  5  6  7]\n",
      " [ 8  9 10 11]\n",
      " [12 13 14 15]]\n"
     ]
    }
   ],
   "source": [
    "# Creamos un array de una dimension con el metodo .arange()\n",
    "array_1d = np.arange(16)\n",
    "# Ahora modificamos sus dimensiones de 1x16 a 4x4\n",
    "matriz1 = array_1d. reshape(4,4)\n",
    "# Mostramos como quedo\n",
    "print(matriz1)"
   ]
  },
  {
   "cell_type": "markdown",
   "metadata": {},
   "source": [
    ". Creando matrices vacias o unitarias y multiplicando por un escalar  \n",
    "Para ello usaremos los metodos *.zeros()* y *ones()* Ambos requieren que le pasemos las dimensiones en una tupla y que indiquemos de que tipo van  a ser sus elementos."
   ]
  },
  {
   "cell_type": "code",
   "execution_count": 20,
   "metadata": {},
   "outputs": [
    {
     "name": "stdout",
     "output_type": "stream",
     "text": [
      "[[0 0 0]\n",
      " [0 0 0]\n",
      " [0 0 0]]\n"
     ]
    }
   ],
   "source": [
    "# Creamos una matriz de 3x3 con todos sue elementos en cero\n",
    "matriz0 = np.zeros((3,3), dtype=int)\n",
    "# Lo mostramos\n",
    "print(matriz0)"
   ]
  },
  {
   "cell_type": "code",
   "execution_count": 21,
   "metadata": {},
   "outputs": [
    {
     "name": "stdout",
     "output_type": "stream",
     "text": [
      "[[1 1 1]\n",
      " [1 1 1]\n",
      " [1 1 1]]\n",
      "[[6 6 6]\n",
      " [6 6 6]\n",
      " [6 6 6]]\n"
     ]
    }
   ],
   "source": [
    "# Creamos una matriz de 3x3 con todos sue elementos en 1\n",
    "matriz1 = np.ones((3,3), dtype=int)\n",
    "# Lo mostramos\n",
    "print(matriz1)\n",
    "# la multiplicamos por un escalar\n",
    "matriz6 = 6 * matriz1\n",
    "#La mostramos\n",
    "print(matriz6)"
   ]
  },
  {
   "cell_type": "markdown",
   "metadata": {},
   "source": [
    "#### Transposicion \n",
    "La operacion mas basica que podemos realizar con una matriz es la de *trasponerla* Esto consiste en intercambiar filas por columnas.  \n",
    "La operacion se denota con una letra T o t \"elevando\" a la matriz\n",
    "$$A^T$$ \n",
    "Esto ya lo vimos en vectores cuando transponiamos un vector columna a un vector fila  \n",
    "En matrices seria:  \n",
    "\n",
    "$$ X = \\begin{bmatrix} x_{1,1}&x_{1,2}&\\cdots& x_{1,n}\\\\ x_{2,1}&x_{2,2}&\\cdots& x_{2,n}\\\\ \\vdots & \\vdots & \\cdots & \\vdots  \\\\  x_{m,1}&x_{m,2}&\\cdots& x_{m,n} \\end{bmatrix} \\qquad X^T = \\begin{bmatrix} x_{1,1}&x_{2,1}&\\cdots& x_{m,1}\\\\ x_{1,2}&x_{2,2}&\\cdots& x_{m,2}\\\\ \\vdots & \\vdots & \\cdots & \\vdots  \\\\  x_{1,n}&x_{2,n}&\\cdots& x_{m,n} \\end{bmatrix}$$\n",
    "  \n",
    "Esta operacion en numpy se hace con el metodo .T de la matriz o vector\n"
   ]
  },
  {
   "cell_type": "code",
   "execution_count": 3,
   "metadata": {},
   "outputs": [
    {
     "name": "stdout",
     "output_type": "stream",
     "text": [
      "[[0 1 2]\n",
      " [3 4 5]\n",
      " [6 7 8]]\n",
      "[[0 3 6]\n",
      " [1 4 7]\n",
      " [2 5 8]]\n"
     ]
    }
   ],
   "source": [
    "# Creamos una matriz cuadrada de 3x3\n",
    "A = np.arange(9).reshape(3,3)\n",
    "# La mostramos\n",
    "print(A)\n",
    "# Ahora la trasponemos\n",
    "A = A.T\n",
    "# Y la volvemos a mostrar traspuesta\n",
    "print(A)"
   ]
  },
  {
   "cell_type": "code",
   "execution_count": null,
   "metadata": {},
   "outputs": [],
   "source": []
  }
 ],
 "metadata": {
  "kernelspec": {
   "display_name": "Python 3 (ipykernel)",
   "language": "python",
   "name": "python3"
  },
  "language_info": {
   "codemirror_mode": {
    "name": "ipython",
    "version": 3
   },
   "file_extension": ".py",
   "mimetype": "text/x-python",
   "name": "python",
   "nbconvert_exporter": "python",
   "pygments_lexer": "ipython3",
   "version": "3.10.6"
  },
  "vscode": {
   "interpreter": {
    "hash": "23399c94b0191d65b87c8924e20a5631b7ce6faa957c71f750adc4be686a5a21"
   }
  }
 },
 "nbformat": 4,
 "nbformat_minor": 4
}
